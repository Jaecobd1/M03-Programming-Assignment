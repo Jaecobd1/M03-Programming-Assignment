{
 "cells": [
  {
   "cell_type": "code",
   "execution_count": 1,
   "id": "134337da-2bf5-494c-b91d-45f00e6b7be4",
   "metadata": {},
   "outputs": [],
   "source": [
    "#7.4 - 7.7\n",
    "things = [\"mozzarella\", \"cinderella\", \"salmonella\"]"
   ]
  },
  {
   "cell_type": "code",
   "execution_count": 2,
   "id": "494ec98c-2003-4016-811d-2fbb1d586792",
   "metadata": {},
   "outputs": [],
   "source": [
    "things[1] = \"Cinderella\""
   ]
  },
  {
   "cell_type": "code",
   "execution_count": 3,
   "id": "b386a711-baa1-42d9-b407-cfbf4c34563e",
   "metadata": {},
   "outputs": [
    {
     "name": "stdout",
     "output_type": "stream",
     "text": [
      "['mozzarella', 'Cinderella', 'salmonella']\n"
     ]
    }
   ],
   "source": [
    "print(things)"
   ]
  },
  {
   "cell_type": "code",
   "execution_count": 4,
   "id": "ca4edc77-7ebd-45f8-ad25-755450ff21f4",
   "metadata": {},
   "outputs": [],
   "source": [
    "#Yes it changed the element in the list^"
   ]
  },
  {
   "cell_type": "code",
   "execution_count": 5,
   "id": "d974f9b8-76f0-4e52-b999-6c673d368f78",
   "metadata": {},
   "outputs": [
    {
     "name": "stdout",
     "output_type": "stream",
     "text": [
      "['Mozzarella', 'Cinderella', 'salmonella']\n"
     ]
    }
   ],
   "source": [
    "things[0] = \"Mozzarella\"\n",
    "print(things)"
   ]
  },
  {
   "cell_type": "code",
   "execution_count": 7,
   "id": "189e1d87-6c93-4fdc-aa27-44380562de79",
   "metadata": {},
   "outputs": [],
   "source": [
    "things.remove('salmonella')"
   ]
  },
  {
   "cell_type": "code",
   "execution_count": 8,
   "id": "88d16b10-9100-40b2-b3b3-e99725421f09",
   "metadata": {},
   "outputs": [
    {
     "name": "stdout",
     "output_type": "stream",
     "text": [
      "['Mozzarella', 'Cinderella']\n"
     ]
    }
   ],
   "source": [
    "print(things)"
   ]
  },
  {
   "cell_type": "code",
   "execution_count": null,
   "id": "842d9895-d59d-4d69-bdff-36ef8bd10550",
   "metadata": {},
   "outputs": [],
   "source": []
  },
  {
   "cell_type": "code",
   "execution_count": null,
   "id": "58f773f2-dd9a-41c8-a346-0a503b360f2a",
   "metadata": {},
   "outputs": [],
   "source": []
  }
 ],
 "metadata": {
  "kernelspec": {
   "display_name": "Python 3 (ipykernel)",
   "language": "python",
   "name": "python3"
  },
  "language_info": {
   "codemirror_mode": {
    "name": "ipython",
    "version": 3
   },
   "file_extension": ".py",
   "mimetype": "text/x-python",
   "name": "python",
   "nbconvert_exporter": "python",
   "pygments_lexer": "ipython3",
   "version": "3.9.12"
  }
 },
 "nbformat": 4,
 "nbformat_minor": 5
}
